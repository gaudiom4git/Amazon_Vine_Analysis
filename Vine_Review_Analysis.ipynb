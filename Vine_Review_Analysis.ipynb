{
  "nbformat": 4,
  "nbformat_minor": 0,
  "metadata": {
    "colab": {
      "name": "Vine_Review_Analysis.ipynb",
      "provenance": []
    },
    "kernelspec": {
      "name": "python3",
      "display_name": "Python 3"
    },
    "language_info": {
      "name": "python"
    }
  },
  "cells": [
    {
      "cell_type": "code",
      "execution_count": 1,
      "metadata": {
        "colab": {
          "base_uri": "https://localhost:8080/"
        },
        "id": "tMgqFHDZk4KN",
        "outputId": "d0b09d8b-7498-4c66-b863-0d59e00de427"
      },
      "outputs": [
        {
          "output_type": "stream",
          "name": "stdout",
          "text": [
            "\r0% [Working]\r            \rGet:1 http://security.ubuntu.com/ubuntu bionic-security InRelease [88.7 kB]\n",
            "\r0% [Connecting to archive.ubuntu.com (185.125.190.39)] [1 InRelease 14.2 kB/88.\r                                                                               \rGet:2 https://cloud.r-project.org/bin/linux/ubuntu bionic-cran40/ InRelease [3,626 B]\n",
            "\r0% [Connecting to archive.ubuntu.com (185.125.190.39)] [1 InRelease 43.1 kB/88.\r0% [Connecting to archive.ubuntu.com (185.125.190.39)] [1 InRelease 88.7 kB/88.\r0% [Connecting to archive.ubuntu.com (185.125.190.39)] [Connecting to ppa.launc\r0% [2 InRelease gpgv 3,626 B] [Connecting to archive.ubuntu.com (185.125.190.39\r                                                                               \rGet:3 https://developer.download.nvidia.com/compute/cuda/repos/ubuntu1804/x86_64  InRelease [1,581 B]\n",
            "\r0% [2 InRelease gpgv 3,626 B] [Connecting to archive.ubuntu.com (185.125.190.39\r                                                                               \rIgn:4 https://developer.download.nvidia.com/compute/machine-learning/repos/ubuntu1804/x86_64  InRelease\n",
            "\r                                                                               \r0% [2 InRelease gpgv 3,626 B] [Waiting for headers] [Waiting for headers]\r                                                                         \rGet:5 http://ppa.launchpad.net/c2d4u.team/c2d4u4.0+/ubuntu bionic InRelease [15.9 kB]\n",
            "\r0% [2 InRelease gpgv 3,626 B] [Waiting for headers] [5 InRelease 2,572 B/15.9 k\r                                                                               \rHit:6 https://developer.download.nvidia.com/compute/machine-learning/repos/ubuntu1804/x86_64  Release\n",
            "Hit:7 http://archive.ubuntu.com/ubuntu bionic InRelease\n",
            "Get:8 http://archive.ubuntu.com/ubuntu bionic-updates InRelease [88.7 kB]\n",
            "Hit:9 http://ppa.launchpad.net/cran/libgit2/ubuntu bionic InRelease\n",
            "Get:10 https://cloud.r-project.org/bin/linux/ubuntu bionic-cran40/ Packages [85.2 kB]\n",
            "Get:11 http://archive.ubuntu.com/ubuntu bionic-backports InRelease [74.6 kB]\n",
            "Get:12 http://ppa.launchpad.net/deadsnakes/ppa/ubuntu bionic InRelease [15.9 kB]\n",
            "Get:13 http://ppa.launchpad.net/graphics-drivers/ppa/ubuntu bionic InRelease [21.3 kB]\n",
            "Get:14 http://security.ubuntu.com/ubuntu bionic-security/main amd64 Packages [2,761 kB]\n",
            "Get:15 http://security.ubuntu.com/ubuntu bionic-security/restricted amd64 Packages [932 kB]\n",
            "Get:16 http://security.ubuntu.com/ubuntu bionic-security/universe amd64 Packages [1,503 kB]\n",
            "Get:17 https://developer.download.nvidia.com/compute/cuda/repos/ubuntu1804/x86_64  Packages [748 kB]\n",
            "Get:19 http://ppa.launchpad.net/c2d4u.team/c2d4u4.0+/ubuntu bionic/main Sources [1,957 kB]\n",
            "Get:20 http://ppa.launchpad.net/c2d4u.team/c2d4u4.0+/ubuntu bionic/main amd64 Packages [1,004 kB]\n",
            "Get:21 http://archive.ubuntu.com/ubuntu bionic-updates/restricted amd64 Packages [966 kB]\n",
            "Get:22 http://archive.ubuntu.com/ubuntu bionic-updates/main amd64 Packages [3,195 kB]\n",
            "Get:23 http://archive.ubuntu.com/ubuntu bionic-updates/universe amd64 Packages [2,277 kB]\n",
            "Get:24 http://ppa.launchpad.net/deadsnakes/ppa/ubuntu bionic/main amd64 Packages [45.3 kB]\n",
            "Get:25 http://ppa.launchpad.net/graphics-drivers/ppa/ubuntu bionic/main amd64 Packages [44.3 kB]\n",
            "Fetched 15.8 MB in 8s (2,055 kB/s)\n",
            "Reading package lists... Done\n"
          ]
        }
      ],
      "source": [
        "import os\n",
        "# Find the latest version of spark 3.0 from http://www.apache.org/dist/spark/ and enter as the spark version\n",
        "# For example:\n",
        "# spark_version = 'spark-3.0.3'\n",
        "spark_version = 'spark-3.0.3'\n",
        "os.environ['SPARK_VERSION']=spark_version\n",
        "\n",
        "# Install Spark and Java\n",
        "!apt-get update\n",
        "!apt-get install openjdk-11-jdk-headless -qq > /dev/null\n",
        "!wget -q http://www.apache.org/dist/spark/$SPARK_VERSION/$SPARK_VERSION-bin-hadoop2.7.tgz\n",
        "!tar xf $SPARK_VERSION-bin-hadoop2.7.tgz\n",
        "!pip install -q findspark\n",
        "\n",
        "# Set Environment Variables\n",
        "import os\n",
        "os.environ[\"JAVA_HOME\"] = \"/usr/lib/jvm/java-11-openjdk-amd64\"\n",
        "os.environ[\"SPARK_HOME\"] = f\"/content/{spark_version}-bin-hadoop2.7\"\n",
        "\n",
        "# Start a SparkSession\n",
        "import findspark\n",
        "findspark.init()"
      ]
    },
    {
      "cell_type": "code",
      "source": [
        "from sqlalchemy import create_engine\n",
        "import pandas as pd"
      ],
      "metadata": {
        "id": "LC6BsC4rlAtq"
      },
      "execution_count": 2,
      "outputs": []
    },
    {
      "cell_type": "code",
      "source": [
        "# Download the Postgres driver that will allow Spark to interact with Postgres.\n",
        "!wget https://jdbc.postgresql.org/download/postgresql-42.2.16.jar"
      ],
      "metadata": {
        "colab": {
          "base_uri": "https://localhost:8080/"
        },
        "id": "lpcu63wElFUN",
        "outputId": "345b528a-3ba0-463e-e5d8-d36c2e53cb9f"
      },
      "execution_count": 3,
      "outputs": [
        {
          "output_type": "stream",
          "name": "stdout",
          "text": [
            "--2022-05-15 23:52:07--  https://jdbc.postgresql.org/download/postgresql-42.2.16.jar\n",
            "Resolving jdbc.postgresql.org (jdbc.postgresql.org)... 72.32.157.228, 2001:4800:3e1:1::228\n",
            "Connecting to jdbc.postgresql.org (jdbc.postgresql.org)|72.32.157.228|:443... connected.\n",
            "HTTP request sent, awaiting response... 200 OK\n",
            "Length: 1002883 (979K) [application/java-archive]\n",
            "Saving to: ‘postgresql-42.2.16.jar’\n",
            "\n",
            "postgresql-42.2.16. 100%[===================>] 979.38K  5.65MB/s    in 0.2s    \n",
            "\n",
            "2022-05-15 23:52:07 (5.65 MB/s) - ‘postgresql-42.2.16.jar’ saved [1002883/1002883]\n",
            "\n"
          ]
        }
      ]
    },
    {
      "cell_type": "code",
      "source": [
        "from pyspark.sql import SparkSession\n",
        "spark = SparkSession.builder.appName(\"M16-Amazon-Challenge\").config(\"spark.driver.extraClassPath\",\"/content/postgresql-42.2.16.jar\").getOrCreate()"
      ],
      "metadata": {
        "id": "Z_hRPg9tlb-K"
      },
      "execution_count": 4,
      "outputs": []
    },
    {
      "cell_type": "code",
      "source": [
        "from pyspark import SparkFiles\n",
        "url = \"https://s3.amazonaws.com/amazon-reviews-pds/tsv/amazon_reviews_us_Health_Personal_Care_v1_00.tsv.gz\"\n",
        "spark.sparkContext.addFile(url)"
      ],
      "metadata": {
        "id": "HjB3vySilJ3O"
      },
      "execution_count": 5,
      "outputs": []
    },
    {
      "cell_type": "code",
      "source": [
        "from pyspark.sql.functions import to_date\n",
        "# Read in the Review dataset as a DataFrame\n",
        "amz_reviews_df = spark.read.option(\"encoding\", \"UTF-8\").csv(SparkFiles.get(\"\"), sep=\"\\t\", header=True, inferSchema=True)\n",
        "amz_reviews_df.show()"
      ],
      "metadata": {
        "colab": {
          "base_uri": "https://localhost:8080/"
        },
        "id": "-VqyMUNQlOJq",
        "outputId": "bc84da4d-c47b-43fc-f094-922570dc637c"
      },
      "execution_count": 6,
      "outputs": [
        {
          "output_type": "stream",
          "name": "stdout",
          "text": [
            "+-----------+-----------+--------------+----------+--------------+--------------------+--------------------+-----------+-------------+-----------+----+-----------------+--------------------+--------------------+-----------+\n",
            "|marketplace|customer_id|     review_id|product_id|product_parent|       product_title|    product_category|star_rating|helpful_votes|total_votes|vine|verified_purchase|     review_headline|         review_body|review_date|\n",
            "+-----------+-----------+--------------+----------+--------------+--------------------+--------------------+-----------+-------------+-----------+----+-----------------+--------------------+--------------------+-----------+\n",
            "|         US|     650634| R3EQSTM9PWRAL|B0091LBZSU|     578484426|Demograss Capsule...|Health & Personal...|          3|            0|          0|   N|                Y|         Three Stars|Only came with 30...| 2015-08-31|\n",
            "|         US|   19827510| RBWPRK17XKIXD|B00PWW3LQ6|     456433146|Viva Labs #1 Prem...|Health & Personal...|          5|            0|          0|   N|                Y|A good portable s...|Really yummy and ...| 2015-08-31|\n",
            "|         US|    1520474| RRSLOAF273XFC|B00DKEWA92|     460764511|     Whip-it Cleaner|Health & Personal...|          5|            1|          2|   N|                Y|       You need this|You cannot go wro...| 2015-08-31|\n",
            "|         US|   23905905|R3S8W9Q6SWIT8O|B0015R3A7M|     135102038|Optimum Nutrition...|Health & Personal...|          4|            0|          0|   N|                Y|this is a good vi...|This is a good da...| 2015-08-31|\n",
            "|         US|   28215779|R3QQ6NSLRVBFJC|B006B8U8BG|     200666829|Wet-Stop3 Bedwett...|Health & Personal...|          4|            0|          0|   N|                Y|progress is defin...|We have been usin...| 2015-08-31|\n",
            "|         US|   23260912|R2XYDBMHUVJCSX|B00PFZFD8Y|     344168617|NatraCure Plantar...|Health & Personal...|          2|            0|          1|   N|                Y|           Two Stars|I wear it a few t...| 2015-08-31|\n",
            "|         US|    7965616|R1L94ESVC657A9|B0034792JG|     291831570|Glade Sense & Spr...|Health & Personal...|          5|            0|          0|   N|                Y|          Five Stars|Love this product...| 2015-08-31|\n",
            "|         US|    3443178|R3DI4B8LDWFQ3K|B000052XIA|     493678550|Vagisil Anti-Itch...|Health & Personal...|          1|            3|          4|   N|                Y|It still is itchi...|It still is itchi...| 2015-08-31|\n",
            "|         US|   20838781|R1G7VV4HCXUQQL|B004GCUK8A|       3902598|Glade Automatic S...|Health & Personal...|          5|            0|          0|   N|                Y|          Five Stars|               Good!| 2015-08-31|\n",
            "|         US|   15267517|R3TTNYN1TAMUSU|B00K7W1QAO|     633971374|Kirkland Signatur...|Health & Personal...|          5|            0|          0|   N|                Y|      Will buy again|These bags are ma...| 2015-08-31|\n",
            "|         US|   30105089|R3AMX2D9HMWV6Z|B0034KYA36|     854858899|Zyrtec Prescripti...|Health & Personal...|          5|            0|          0|   N|                Y|         Good price!|Delivered product...| 2015-08-31|\n",
            "|         US|    1622207|R3PO3K321GY8HI|B00C7UZTT8|     264608272|Pure Garcinia Cam...|Health & Personal...|          1|            0|          0|   N|                Y|       Doesn't work.|So far I've felt ...| 2015-08-31|\n",
            "|         US|   29856075| RVQ0UNYX6IEVK|B005F9XFN0|     638667060|Now  Better Stevi...|Health & Personal...|          1|            0|          1|   N|                Y|           not quite|Not nearly as goo...| 2015-08-31|\n",
            "|         US|   52319463|R25E9NIGO2XQ3D|B00Q8YSPTU|     130354267|Now Foods Stevia ...|Health & Personal...|          5|            0|          0|   N|                Y|Reasonably priced...|Reasonably priced...| 2015-08-31|\n",
            "|         US|   16857013|R3GIEXIIIR2G9Y|B00N34HBVG|     700530604|Compression Thigh...|Health & Personal...|          1|            0|          0|   N|                Y|DO NOT BUY!!!! Ve...|They are sooooooo...| 2015-08-31|\n",
            "|         US|   12269680|R264BH3U417NXF|B002UN2UKS|     731161248|Brownmed SEAL-TIG...|Health & Personal...|          5|            0|          0|   N|                Y|Worked Great!! Ve...|Worked Great!!  V...| 2015-08-31|\n",
            "|         US|   29116955|R2C6S0XJIMP0Z2|B003265KYK|     719831457|Botanic Choice Gl...|Health & Personal...|          5|            0|          0|   N|                Y|          Five Stars|Great price, on t...| 2015-08-31|\n",
            "|         US|   14533949|R2LRJYGC2YYR2F|B00939J5T6|     377517622|Shibari SHIB-WHT ...|Health & Personal...|          2|            0|          0|   N|                Y|Cant handle long ...|Broke down after ...| 2015-08-31|\n",
            "|         US|   11274313|R3SVW9ZP1CZPW7|B00LJOQKRI|     376583016|Eyekepper 5-pack ...|Health & Personal...|          1|            0|          1|   N|                Y|            One Star|I think the presc...| 2015-08-31|\n",
            "|         US|   14861684|R1GLA6RQUF4Q79|B002TG3QPO|     813956658|Isopure Zero Carb...|Health & Personal...|          4|            0|          0|   N|                Y|          Four Stars|            Loved it| 2015-08-31|\n",
            "+-----------+-----------+--------------+----------+--------------+--------------------+--------------------+-----------+-------------+-----------+----+-----------------+--------------------+--------------------+-----------+\n",
            "only showing top 20 rows\n",
            "\n"
          ]
        }
      ]
    },
    {
      "cell_type": "code",
      "source": [
        "print(amz_reviews_df.count())\n",
        "amz_reviews_df =amz_reviews_df.dropna();\n",
        "print(amz_reviews_df.count())"
      ],
      "metadata": {
        "colab": {
          "base_uri": "https://localhost:8080/"
        },
        "id": "ORepahMElmPB",
        "outputId": "58369663-d8d2-458f-957f-3a81fa9ac30d"
      },
      "execution_count": 7,
      "outputs": [
        {
          "output_type": "stream",
          "name": "stdout",
          "text": [
            "5331449\n",
            "5330701\n"
          ]
        }
      ]
    },
    {
      "cell_type": "code",
      "source": [
        "# Create the vine_table. DataFrame\n",
        "# vine_df = df.select([\"\"])\n",
        "vine_df = amz_reviews_df.select([\"review_id\", \"star_rating\",\"helpful_votes\",\"total_votes\",\"vine\",\"verified_purchase\"])"
      ],
      "metadata": {
        "id": "SY6gWn89mi9i"
      },
      "execution_count": 8,
      "outputs": []
    },
    {
      "cell_type": "code",
      "source": [
        "print(vine_df.count())"
      ],
      "metadata": {
        "colab": {
          "base_uri": "https://localhost:8080/"
        },
        "id": "jlKKtvvKo3fL",
        "outputId": "e01a62de-7a73-46a5-da09-1fed2d86e551"
      },
      "execution_count": 9,
      "outputs": [
        {
          "output_type": "stream",
          "name": "stdout",
          "text": [
            "5330701\n"
          ]
        }
      ]
    },
    {
      "cell_type": "code",
      "source": [
        "##Filter the new dataframe \n",
        "# WHERE CAST(helpful_votes AS FLOAT)/CAST(total_votes AS FLOAT) >=0.5.\n",
        "# Load in a sql function to use columns\n",
        "from pyspark.sql.functions import col\n",
        "vine_over19votes_df = vine_df.filter(col(\"total_votes\")  >= 20)"
      ],
      "metadata": {
        "id": "h685wshGmwJy"
      },
      "execution_count": 10,
      "outputs": []
    },
    {
      "cell_type": "code",
      "source": [
        "print(vine_over19votes_df.count())"
      ],
      "metadata": {
        "colab": {
          "base_uri": "https://localhost:8080/"
        },
        "id": "6CDzS-fhpv7I",
        "outputId": "fdc2b7aa-8584-4410-e7f6-22be148d9127"
      },
      "execution_count": 11,
      "outputs": [
        {
          "output_type": "stream",
          "name": "stdout",
          "text": [
            "133371\n"
          ]
        }
      ]
    },
    {
      "cell_type": "code",
      "source": [
        "# Filter to new DF where the there were at least 50% helpful votes of total votes\n",
        "vine_helpfulvotes_df = vine_over19votes_df.filter(col(\"helpful_votes\")/col(\"total_votes\")  >= 0.5)"
      ],
      "metadata": {
        "id": "aQcrFmxpqBG_"
      },
      "execution_count": 12,
      "outputs": []
    },
    {
      "cell_type": "code",
      "source": [
        "print(vine_helpfulvotes_df.count())"
      ],
      "metadata": {
        "colab": {
          "base_uri": "https://localhost:8080/"
        },
        "id": "Zn07BlpMqXQC",
        "outputId": "89d2ed03-a849-46df-857b-809e109684b8"
      },
      "execution_count": null,
      "outputs": [
        {
          "output_type": "stream",
          "name": "stdout",
          "text": [
            "121322\n"
          ]
        }
      ]
    },
    {
      "cell_type": "code",
      "source": [
        "# Filter further to new DF where review was part of Vine program (paid=='Y') \n",
        "vine_paid_df = vine_helpfulvotes_df.filter(col(\"vine\")=='Y')"
      ],
      "metadata": {
        "id": "VjVtc1ZBsEXU"
      },
      "execution_count": 13,
      "outputs": []
    },
    {
      "cell_type": "code",
      "source": [
        "print(vine_paid_df.count())\n",
        "total_paid = vine_paid_df.count()"
      ],
      "metadata": {
        "colab": {
          "base_uri": "https://localhost:8080/"
        },
        "id": "thcXbH0Qs4AO",
        "outputId": "665913f5-37e1-4737-85af-63028f61c2d5"
      },
      "execution_count": 17,
      "outputs": [
        {
          "output_type": "stream",
          "name": "stdout",
          "text": [
            "497\n"
          ]
        }
      ]
    },
    {
      "cell_type": "code",
      "source": [
        "# Filter further to new DF where review was NOT part of Vine program (paid=='N') \n",
        "vine_notpaid_df = vine_helpfulvotes_df.filter(col(\"vine\")=='Y')\n",
        "print(vine_notpaid_df.count())\n",
        "total_not_paid = vine_notpaid_df.count()"
      ],
      "metadata": {
        "colab": {
          "base_uri": "https://localhost:8080/"
        },
        "id": "udaAfr3Qs_sn",
        "outputId": "7a21e1be-1966-4b98-a867-10307c1cb205"
      },
      "execution_count": 18,
      "outputs": [
        {
          "output_type": "stream",
          "name": "stdout",
          "text": [
            "120825\n"
          ]
        }
      ]
    },
    {
      "cell_type": "code",
      "source": [
        "review_summary = vine_helpfulvotes_df.filter(col(\"star_rating\")==\"5\").groupBy(\"vine\").agg({\"vine\":\"count\"}).show()\n"
      ],
      "metadata": {
        "id": "80pSIqcur_QB",
        "colab": {
          "base_uri": "https://localhost:8080/"
        },
        "outputId": "ad531a22-2cd4-4156-8963-1a3e591cfccf"
      },
      "execution_count": 21,
      "outputs": [
        {
          "output_type": "stream",
          "name": "stdout",
          "text": [
            "+----+-----------+\n",
            "|vine|count(vine)|\n",
            "+----+-----------+\n",
            "|   Y|        220|\n",
            "|   N|      74445|\n",
            "+----+-----------+\n",
            "\n"
          ]
        }
      ]
    },
    {
      "cell_type": "code",
      "source": [
        "## Positive reviews = 4 or 5 star\n",
        "review_summary = vine_helpfulvotes_df.filter(col(\"star_rating\").isin([\"4\",\"5\"])).groupBy(\"vine\").agg({\"vine\":\"count\"}).show()"
      ],
      "metadata": {
        "colab": {
          "base_uri": "https://localhost:8080/"
        },
        "id": "iMR6ozdfUoDC",
        "outputId": "35c5d3d6-a056-4ce2-ec02-895abbb55329"
      },
      "execution_count": 24,
      "outputs": [
        {
          "output_type": "stream",
          "name": "stdout",
          "text": [
            "+----+-----------+\n",
            "|vine|count(vine)|\n",
            "+----+-----------+\n",
            "|   Y|        350|\n",
            "|   N|      87462|\n",
            "+----+-----------+\n",
            "\n"
          ]
        }
      ]
    },
    {
      "cell_type": "code",
      "source": [
        "## Negative reviews = 1 or 2 star\n",
        "review_summary = vine_helpfulvotes_df.filter(col(\"star_rating\").isin([\"1\",\"2\"])).groupBy(\"vine\").agg({\"vine\":\"count\"}).show()"
      ],
      "metadata": {
        "colab": {
          "base_uri": "https://localhost:8080/"
        },
        "id": "HKWKND9DWkHT",
        "outputId": "0a663613-6d4f-41f6-f228-91ad93f34c53"
      },
      "execution_count": 25,
      "outputs": [
        {
          "output_type": "stream",
          "name": "stdout",
          "text": [
            "+----+-----------+\n",
            "|vine|count(vine)|\n",
            "+----+-----------+\n",
            "|   Y|         70|\n",
            "|   N|      26413|\n",
            "+----+-----------+\n",
            "\n"
          ]
        }
      ]
    }
  ]
}